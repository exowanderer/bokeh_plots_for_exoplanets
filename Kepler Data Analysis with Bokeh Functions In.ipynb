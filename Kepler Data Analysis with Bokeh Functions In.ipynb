{
 "cells": [
  {
   "cell_type": "code",
   "execution_count": null,
   "metadata": {},
   "outputs": [],
   "source": [
    "import kplr\n",
    "import numpy as np\n",
    "# import matplotlib.pyplot as plt\n",
    "\n",
    "from functools import partial\n",
    "from lmfit     import Parameters, Minimizer, report_errors, minimize\n",
    "\n",
    "from matplotlib import rcParams\n",
    "from time      import time\n",
    "\n",
    "from sklearn.externals import joblib\n",
    "from scipy import special\n",
    "from pandas import DataFrame\n",
    "from exoparams import PlanetParams\n",
    "import batman\n",
    "\n",
    "# plt.ion()\n",
    "# %matplotlib inline"
   ]
  },
  {
   "cell_type": "code",
   "execution_count": null,
   "metadata": {},
   "outputs": [],
   "source": [
    "from bokeh.io       import output_notebook, show\n",
    "from bokeh.plotting import figure\n",
    "from bokeh.models   import Span\n",
    "from bokeh.layouts  import gridplot\n",
    "\n",
    "output_notebook()"
   ]
  },
  {
   "cell_type": "code",
   "execution_count": null,
   "metadata": {},
   "outputs": [],
   "source": [
    "color_cycle = rcParams['axes.prop_cycle'].by_key()['color']"
   ]
  },
  {
   "cell_type": "markdown",
   "metadata": {},
   "source": [
    "**LMFIT BATMAN Model**"
   ]
  },
  {
   "cell_type": "code",
   "execution_count": null,
   "metadata": {},
   "outputs": [],
   "source": [
    "def batman_wrapper_lmfit(period, tCenter, inc, aprs, rprs, edepth, ecc, omega, u1, u2, \n",
    "                         intcpt, slope, crvtur, times, ldtype='quadratic', transitType='primary'):\n",
    "    \n",
    "    if intcpt == 1.0 and slope == 0.0 and crvtur == 0.0:\n",
    "        OoT_crvtur = 1.0 # OoT == Out of Transit\n",
    "    else:\n",
    "        OoT_crvtur = intcpt + slope*(times-times.mean()) + crvtur*(times-times.mean())**2\n",
    "    \n",
    "    bm_params           = batman.TransitParams() # object to store transit parameters\n",
    "    \n",
    "    bm_params.per       = period   # orbital period\n",
    "    bm_params.t0        = tCenter  # time of inferior conjunction\n",
    "    bm_params.inc       = inc      # inclunaition in degrees\n",
    "    bm_params.a         = aprs     # semi-major axis (in units of stellar radii)\n",
    "    bm_params.rp        = rprs     # planet radius (in units of stellar radii)\n",
    "    bm_params.fp        = edepth   # planet radius (in units of stellar radii)\n",
    "    bm_params.ecc       = ecc      # eccentricity\n",
    "    bm_params.w         = omega    # longitude of periastron (in degrees)\n",
    "    bm_params.limb_dark = ldtype   # limb darkening model # NEED TO FIX THIS\n",
    "    bm_params.u         = [u1, u2] # limb darkening coefficients # NEED TO FIX THIS\n",
    "    \n",
    "    m_eclipse = batman.TransitModel(bm_params, times, transittype=transitType)# initializes model\n",
    "    \n",
    "    return m_eclipse.light_curve(bm_params)*OoT_crvtur"
   ]
  },
  {
   "cell_type": "code",
   "execution_count": null,
   "metadata": {},
   "outputs": [],
   "source": [
    "from exoplanet_bokeh_plots import batman_wrapper_lmfit\n",
    "\n",
    "''' Example Usage for `batman_wrapper_lmfit`\n",
    "\n",
    "keplaunch = 2454833.0 # Kepler time stamps are relative to the Julian Date (JD) of launch \n",
    "\n",
    "# From Hubert et al. 2017\n",
    "kep3period = 4.88782433\n",
    "kep3t0     = 2454957.812464 - keplaunch\n",
    "kep3aoR    = 14.64\n",
    "kep3RpRs   = 0.05856\n",
    "kep3FpFs   = 500/ppm\n",
    "kep3inc    = 88.99\n",
    "kep3ecc    = 0.26493\n",
    "kep3omeg   = -162.149\n",
    "kep3u1     = 0.646 # linear_limb_darkening\n",
    "kep3u2     = 0.048 # quad_limb_darkening\n",
    "\n",
    "intcpt     = 1.0   # out of transit intercept\n",
    "slope      = 0.0   # out of transit slope\n",
    "crvtur     = 0.0   # out of transit curvature\n",
    "\n",
    "n_data     = 1000\n",
    "times_array= np.linspace(kep3t0 - 0.1*kep3period, kep3t0 + 0.1*kep3period, n_data)\n",
    "\n",
    "usage = batman_wrapper_lmfit(kep3period, kep3t0, inclination, kep3aoR, kep3RpRs, kep3FpFs, \n",
    "                                kep3inc, kep3omeg, kep3u1, kep3u2, intcpt, slope, crvtur, \n",
    "                                 times_array, ldtype='quadratic', transitType='primary')\n",
    "'''"
   ]
  },
  {
   "cell_type": "code",
   "execution_count": null,
   "metadata": {},
   "outputs": [],
   "source": [
    "from exoplanet_bokeh_plots import transit_line_model\n",
    "\n",
    "''' Example Usage for `batman_wrapper_lmfit`\n",
    "\n",
    "keplaunch = 2454833.0 # Kepler time stamps are relative to the Julian Date (JD) of launch \n",
    "\n",
    "# From Hubert et al. 2017\n",
    "kep3period = 4.88782433\n",
    "kep3t0     = 2454957.812464 - keplaunch\n",
    "kep3aoR    = 14.64\n",
    "kep3RpRs   = 0.05856\n",
    "kep3FpFs   = 500/ppm\n",
    "kep3inc    = 88.99\n",
    "kep3ecc    = 0.26493\n",
    "kep3omeg   = -162.149\n",
    "kep3u1     = 0.646 # linear_limb_darkening\n",
    "kep3u2     = 0.048 # quad_limb_darkening\n",
    "\n",
    "intcpt     = 1.0   # out of transit intercept\n",
    "slope      = 0.0   # out of transit slope\n",
    "crvtur     = 0.0   # out of transit curvature\n",
    "\n",
    "model_params = Parameters()\n",
    "\n",
    "model_params.add_many(\n",
    "    ('period'   , kep3period, False),\n",
    "    ('tCenter'  , kep3t0    , True , kep3t0 - 0.1, kep3t0 + 0.1),\n",
    "    ('inc'      , kep3inc   , False, 0.0, 90. ),\n",
    "    ('aprs'     , kep3aoR   , False, 0.0, 100.),\n",
    "    ('tdepth'   , kep3RpRs  , True , 0.0, 1.0 ),\n",
    "    ('edepth'   , kep3FpFs  , True , 0.0, 1.0 ),\n",
    "    ('ecc'      , kep3ecc   , False, 0.0, 1.0 ),\n",
    "    ('omega'    , kep3omeg  , False, 0.0, 1.0 ),\n",
    "    ('u1'       , kep3u1    , True , 0.0, 1.0 ),\n",
    "    ('u2'       , kep3u2    , True , 0.0, 1.0 ),\n",
    "    ('intcpt'   , 1.0       , True ),\n",
    "    ('slope'    , 0.0       , True ),\n",
    "    ('crvtur', 0.0          , True ))\n",
    "\n",
    "n_data     = 1000\n",
    "times_array= np.linspace(kep3t0 - 0.1*kep3period, kep3t0 + 0.1*kep3period, n_data)\n",
    "\n",
    "usage = transit_line_model(model_params, times_array)\n",
    "'''"
   ]
  },
  {
   "cell_type": "code",
   "execution_count": null,
   "metadata": {},
   "outputs": [],
   "source": [
    "def transit_line_model(model_params, times):\n",
    "    intcpt  = model_params['intcpt'].value if 'intcpt' in model_params.keys() else 1.0\n",
    "    slope   = model_params['slope'].value  if 'slope'  in model_params.keys() else 0.0\n",
    "    crvtur  = model_params['crvtur'].value if 'crvtur' in model_params.keys() else 0.0\n",
    "    \n",
    "    # Transit Parameters\n",
    "    period  = model_params['period'].value\n",
    "    tCenter = model_params['tCenter'].value\n",
    "    inc     = model_params['inc'].value\n",
    "    aprs    = model_params['aprs'].value\n",
    "    edepth  = model_params['edepth'].value\n",
    "    tdepth  = model_params['tdepth'].value\n",
    "    ecc     = model_params['ecc'].value\n",
    "    omega   = model_params['omega'].value\n",
    "    u1      = model_params['u1'].value\n",
    "    u2      = model_params['u2'].value\n",
    "    \n",
    "    # delta_phase = deltaphase_eclipse(ecc, omega) if ecc is not 0.0 else 0.5\n",
    "    # t_secondary = tCenter + period*delta_phase\n",
    "    \n",
    "    rprs  = np.sqrt(tdepth)\n",
    "    \n",
    "    transit_model = batman_wrapper_lmfit(period, tCenter, inc, aprs, rprs, edepth, ecc, omega, u1, u2, \n",
    "                         intcpt, slope, crvtur, times, ldtype='quadratic', transitType='primary')\n",
    "    \n",
    "    line_model    = intcpt + slope*(times-times.mean()) + crvtur*(times-times.mean())**2.\n",
    "    \n",
    "    return transit_model * line_model"
   ]
  },
  {
   "cell_type": "code",
   "execution_count": null,
   "metadata": {},
   "outputs": [],
   "source": [
    "def residuals_func(model_params, times, flux, fluxerr):\n",
    "    model = transit_line_model(model_params, times)\n",
    "    return (model - flux) / fluxerr"
   ]
  },
  {
   "cell_type": "markdown",
   "metadata": {},
   "source": [
    "**Bokeh Plots**"
   ]
  },
  {
   "cell_type": "code",
   "execution_count": null,
   "metadata": {},
   "outputs": [],
   "source": [
    "def bokeh_errorbars(xs, ys, yerrs, xerrs=None, color='#1f77b4', size=5, alpha=1, fig=None, show_now = False):\n",
    "    \n",
    "    if xerrs is None:\n",
    "        xerrs = np.zeros(xs.size)\n",
    "    \n",
    "    if fig is None:\n",
    "        fig = figure()\n",
    "    \n",
    "    fig.circle(xs, ys, color=color, size=size, alpha=alpha)\n",
    "    \n",
    "    # create the coordinates for the errorbars\n",
    "    err_xs = []\n",
    "    err_ys = []\n",
    "    \n",
    "    for x, y, yerr, xerr in zip(xs, ys, yerrs, xerrs):\n",
    "        err_xs.append((x - xerr, x + xerr))\n",
    "        err_ys.append((y - yerr, y + yerr))\n",
    "    \n",
    "    # plot them\n",
    "    fig.multi_line(err_xs, err_ys, color=color, alpha=alpha)\n",
    "    \n",
    "    if show_now: show(fig)\n",
    "    \n",
    "    return fig"
   ]
  },
  {
   "cell_type": "code",
   "execution_count": null,
   "metadata": {},
   "outputs": [],
   "source": [
    "def bokeh_hist(data, bins=100, range=None, color='#1f77b4', density=True, alpha=1.0, fig = None, show_now = False):\n",
    "    if fig is None:\n",
    "        fig = figure()\n",
    "    \n",
    "    data_sorted = np.sort(data)\n",
    "    hist, edges = np.histogram(data_sorted, density=density, bins=bins, range=range)\n",
    "    fig.quad(top=hist, bottom=0, left=edges[:-1], right=edges[1:], \n",
    "             fill_color=color, line_color=color, alpha=alpha)\n",
    "    \n",
    "    if show_now: show(fig)\n",
    "    \n",
    "    return fig"
   ]
  },
  {
   "cell_type": "code",
   "execution_count": null,
   "metadata": {},
   "outputs": [],
   "source": [
    "def bokeh_corner_plot(dataset, TOOLS=None, hist_color='orange', kde_color=\"violet\"):\n",
    "    # if dataset.shape[0] > dataset.shape[1]:\n",
    "    #     raise Exception('Shape must be dimensions x samples -- i.e. (9,1000), not (1000,9)')\n",
    "    \n",
    "    if isinstance(dataset, np.ndarray):\n",
    "        dataset = DataFrame(dataset)\n",
    "    \n",
    "    if TOOLS is None:\n",
    "        TOOLS = \"box_select,lasso_select,pan,wheel_zoom,box_zoom,reset,help\"\n",
    "    \n",
    "    scatter_plots = []\n",
    "    y_max = len(dataset.columns) - 1\n",
    "    for i, y_col in enumerate(dataset):\n",
    "        for j, x_col in enumerate(dataset):\n",
    "            df = DataFrame({x_col: dataset[x_col].tolist(), y_col: dataset[y_col].tolist()})\n",
    "            fig = figure(tools=TOOLS, toolbar_location=\"below\", toolbar_sticky=False)\n",
    "            if i >= j:\n",
    "                if i != j:\n",
    "                    fig.scatter(x=x_col, y=y_col, source=df)\n",
    "                else:\n",
    "                    x_now       = np.sort(dataset[x_col].values)\n",
    "                    mu  , sigma = np.mean(x_now), np.std(x_now)\n",
    "                    hist, edges = np.histogram(x_now, density=True, bins=len(x_now)//100)\n",
    "                    pdf         = 1/(sigma * np.sqrt(2*np.pi)) * np.exp(-0.5*(x_now-mu)**2 / sigma**2)\n",
    "                    cdf         = 0.5*(1+special.erf((x_now-mu)/np.sqrt(2*sigma**2)))\n",
    "                    \n",
    "                    fig.quad(top=hist, bottom=0, left=edges[:-1], right=edges[1:],fill_color=hist_color, line_color=hist_color, alpha=1.0)\n",
    "                    fig.line(x_now, pdf, line_color=kde_color, line_width=8, alpha=0.7)#, legend=\"PDF\")\n",
    "                    #fig.line(x_now, cdf, line_color=\"black\"  , line_width=2, alpha=0.5, legend=\"CDF\")\n",
    "                if j > 0:\n",
    "                    fig.yaxis.axis_label = \"\"\n",
    "                    fig.yaxis.visible = False\n",
    "                if i < y_max:\n",
    "                    fig.xaxis.axis_label = \"\"\n",
    "                    fig.xaxis.visible = False\n",
    "            else:\n",
    "                fig.outline_line_color = None\n",
    "            \n",
    "            scatter_plots.append(fig)\n",
    "    \n",
    "    # xr = scatter_plots[0].x_range\n",
    "    # yr = scatter_plots[0].y_range\n",
    "    # for p in scatter_plots:\n",
    "    #     p.x_range = xr\n",
    "    #     p.y_range = yr\n",
    "    \n",
    "    grid = gridplot(scatter_plots, ncols = len(dataset.columns))\n",
    "    show(grid)\n",
    "    # save(grid)\n"
   ]
  },
  {
   "cell_type": "code",
   "execution_count": null,
   "metadata": {},
   "outputs": [],
   "source": [
    "ppm = 1e6\n",
    "y,x = 0,1"
   ]
  },
  {
   "cell_type": "markdown",
   "metadata": {},
   "source": [
    "** Kepler Data Load **"
   ]
  },
  {
   "cell_type": "code",
   "execution_count": null,
   "metadata": {},
   "outputs": [],
   "source": [
    "client = kplr.API()\n",
    "koi3 = client.koi(3.01)"
   ]
  },
  {
   "cell_type": "code",
   "execution_count": null,
   "metadata": {},
   "outputs": [],
   "source": [
    "print(koi3.koi_period, koi3.koi_period_err1)"
   ]
  },
  {
   "cell_type": "code",
   "execution_count": null,
   "metadata": {},
   "outputs": [],
   "source": [
    "lcs3short = koi3.get_light_curves(short_cadence=True)"
   ]
  },
  {
   "cell_type": "markdown",
   "metadata": {},
   "source": [
    "** Allocate All Data for Kepler-3 **"
   ]
  },
  {
   "cell_type": "markdown",
   "metadata": {},
   "source": [
    "**Huber etal 2017**"
   ]
  },
  {
   "cell_type": "code",
   "execution_count": null,
   "metadata": {},
   "outputs": [],
   "source": [
    "keplaunch = 2454833.0\n",
    "\n",
    "# From Hubert et al. 2017\n",
    "kep3period = 4.88782433\n",
    "kep3t0     = 2454957.812464 - keplaunch\n",
    "kep3aoR    = 14.64\n",
    "kep3RpRs   = 0.05856\n",
    "kep3FpFs   = 500/ppm\n",
    "kep3inc    = 88.99\n",
    "kep3ecc    = 0.26493\n",
    "kep3omeg   = -162.149\n",
    "kep3u1     = 0.646\n",
    "kep3u2     = 0.048"
   ]
  },
  {
   "cell_type": "code",
   "execution_count": null,
   "metadata": {
    "scrolled": false
   },
   "outputs": [],
   "source": [
    "times, fluxs, ferrs = [], [], []\n",
    "kep3_df_list = []\n",
    "for lc in lcs3short:\n",
    "    with lc.open() as f:\n",
    "        if f[0].header['OBSMODE'] == 'short cadence':\n",
    "            data     = f[1].data\n",
    "            \n",
    "            keepNow  = data[\"SAP_QUALITY\"] == 0\n",
    "            keepNow &= np.isfinite(data[\"TIME\"])\n",
    "            keepNow &= np.isfinite(data[\"PDCSAP_FLUX\"])\n",
    "            \n",
    "            timesNow = np.ascontiguousarray(data[\"TIME\"][keepNow], dtype=np.float64)\n",
    "            fluxNow  = np.ascontiguousarray(data[\"PDCSAP_FLUX\"][keepNow], dtype=np.float64)\n",
    "            ferrNow  = np.ascontiguousarray(data[\"PDCSAP_FLUX_ERR\"][keepNow], dtype=np.float64)\n",
    "            \n",
    "            phaseNow = ((timesNow - kep3t0) % kep3period)/kep3period\n",
    "            phaseNow[phaseNow > .5] -= 1\n",
    "            \n",
    "            kep3_df           = DataFrame()\n",
    "            kep3_df['time']   = timesNow\n",
    "            kep3_df['flux']   = fluxNow\n",
    "            kep3_df['ferr']   = ferrNow\n",
    "            kep3_df['phase']  = phaseNow\n",
    "            \n",
    "            kep3_df_list.append(kep3_df)\n",
    "            times.append(timesNow)\n",
    "            fluxs.append(fluxNow)\n",
    "            ferrs.append(ferrNow)"
   ]
  },
  {
   "cell_type": "code",
   "execution_count": null,
   "metadata": {},
   "outputs": [],
   "source": [
    "jdintcpt = 2450000.0\n",
    "kepStartEpoch = float(np.copy(kep3t0)) + jdintcpt\n",
    "\n",
    "while kepStartEpoch > keplaunch:\n",
    "    kepStartEpoch -= kep3period # start from way before kepler launched\n",
    "\n",
    "kepStartEpoch -= jdintcpt\n",
    "# iTran = 200\n",
    "sliceWidth = 0.5\n",
    "\n",
    "kep3_slice_df_list = []\n",
    "\n",
    "# %matplotlib inline\n",
    "# plt.figure(figsize=(10,10))\n",
    "timeSlices, fluxSlices, ferrSlices, kep3Epochs = [],[],[],[]\n",
    "for iEpoch in range(len(kep3_df_list)):#[2,9,29,33]:#\n",
    "    # phases = (times[iEpoch] - kep3t0) % kep3period / kep3period\n",
    "    nEpochsNow = (np.diff(kep3_df_list[iEpoch]['phase']) < -0.9).sum()\n",
    "    if nEpochsNow:\n",
    "        while kepStartEpoch < kep3_df_list[iEpoch]['time'].min():\n",
    "            kepStartEpoch += kep3period\n",
    "        \n",
    "        for iTran in range(nEpochsNow):\n",
    "            kep3epochKt0 = kepStartEpoch + iTran * kep3period\n",
    "            transitSliceK = (kep3_df_list[iEpoch]['time'] > kep3epochKt0 - sliceWidth) & \\\n",
    "            (times[iEpoch] < kep3epochKt0 + sliceWidth)\n",
    "            if np.sum(transitSliceK):\n",
    "                timeSliceK = times[iEpoch][transitSliceK]\n",
    "                timeSlices.append(np.linspace(np.nanmin(timeSliceK), np.nanmax(timeSliceK), timeSliceK.size))\n",
    "                fluxSlices.append(fluxs[iEpoch][transitSliceK])\n",
    "                ferrSlices.append(ferrs[iEpoch][transitSliceK])\n",
    "                kep3Epochs.append(kep3epochKt0)\n",
    "            else:\n",
    "                print(iEpoch, iTran)\n",
    "               # plt.errorbar(times[iEpoch], fluxs[iEpoch], ferrs[iEpoch]"
   ]
  },
  {
   "cell_type": "code",
   "execution_count": null,
   "metadata": {},
   "outputs": [],
   "source": [
    "color_cycle"
   ]
  },
  {
   "cell_type": "code",
   "execution_count": null,
   "metadata": {},
   "outputs": [],
   "source": [
    "# plt.figure(figsize=(9, 9))\n",
    "i = 23\n",
    "errorbars = bokeh_errorbars(kep3_df_list[i]['time'].values, \n",
    "                            kep3_df_list[i]['flux'].values, \n",
    "                            yerrs=kep3_df_list[i]['ferr'].values)\n",
    "\n",
    "errorbars.xaxis.axis_label = \"Time (KJD)\"\n",
    "errorbars.yaxis.axis_label = \"Flux (Photons)\"\n",
    "\n",
    "errorbars.xaxis.axis_label_text_font = '20'\n",
    "errorbars.yaxis.axis_label_text_font = '20'\n",
    "\n",
    "show(errorbars); del errorbars"
   ]
  },
  {
   "cell_type": "code",
   "execution_count": null,
   "metadata": {
    "scrolled": false
   },
   "outputs": [],
   "source": [
    "plot_exist = False\n",
    "tmin, tmax  = 291,322\n",
    "for i in range(len(times)):\n",
    "    timesi = kep3_df_list[i]['time']\n",
    "    fluxsi = kep3_df_list[i]['flux']\n",
    "    ferrsi = kep3_df_list[i]['ferr']\n",
    "    useTime = (kep3_df_list[i]['time'] > tmin)&(kep3_df_list[i]['time'] < tmax)\n",
    "    if sum(useTime):\n",
    "        plot_exist= True\n",
    "        errorbars = bokeh_errorbars(kep3_df_list[i]['time'][useTime], \\\n",
    "                                     kep3_df_list[i]['flux'][useTime], \\\n",
    "                                     kep3_df_list[i]['ferr'][useTime])\n",
    "\n",
    "if plot_exist:\n",
    "    errorbars.xaxis.axis_label = \"Time (KJD)\"\n",
    "    errorbars.yaxis.axis_label = \"Flux (Photons)\"\n",
    "\n",
    "    errorbars.xaxis.axis_label_text_font = '20'\n",
    "    errorbars.yaxis.axis_label_text_font = '20'\n",
    "\n",
    "    show(errorbars); del errorbars"
   ]
  },
  {
   "cell_type": "markdown",
   "metadata": {},
   "source": [
    "** Old Planet Data Load **"
   ]
  },
  {
   "cell_type": "raw",
   "metadata": {},
   "source": [
    "kep3params = PlanetParams('HAT-P-11 b')\n",
    "print(kep3params.per.value, kep3params.t0.value)\n",
    "keplaunch = 2454833.0\n",
    "kep3period = kep3params.per.value\n",
    "kep3t0 = kep3params.t0.value - keplaunch\n",
    "print(kep3t0)"
   ]
  },
  {
   "cell_type": "markdown",
   "metadata": {},
   "source": [
    "** Phasing and Spliting Transits **"
   ]
  },
  {
   "cell_type": "code",
   "execution_count": null,
   "metadata": {
    "scrolled": false
   },
   "outputs": [],
   "source": [
    "i = 23\n",
    "errorbars = bokeh_errorbars(kep3_df_list[i]['phase'], \\\n",
    "                            kep3_df_list[i]['flux'] , \\\n",
    "                            kep3_df_list[i]['ferr'] )\n",
    "\n",
    "errorbars.xaxis.axis_label = \"Time (KJD)\"\n",
    "errorbars.yaxis.axis_label = \"Flux (Photons)\"\n",
    "\n",
    "errorbars.xaxis.axis_label_text_font = '20'\n",
    "errorbars.yaxis.axis_label_text_font = '20'\n",
    "\n",
    "show(errorbars); del errorbars"
   ]
  },
  {
   "cell_type": "code",
   "execution_count": null,
   "metadata": {
    "scrolled": false
   },
   "outputs": [],
   "source": [
    "i = 23\n",
    "errorbars = bokeh_errorbars(kep3_df_list[i]['time'], \\\n",
    "                            kep3_df_list[i]['flux'] , \\\n",
    "                            kep3_df_list[i]['ferr'] )\n",
    "# hline = Span(location=0, dimension='width', line_color='green', line_width=3)\n",
    "\n",
    "vlines = []\n",
    "for k in range(200, 206):\n",
    "    vlines.append(Span(location=kep3t0 + k*kep3period, dimension='height', line_color=color_cycle[1], line_width=3))\n",
    "\n",
    "errorbars.renderers.extend(vlines)\n",
    "\n",
    "errorbars.xaxis.axis_label = \"Time (KJD)\"\n",
    "errorbars.yaxis.axis_label = \"Flux (Photons)\"\n",
    "\n",
    "errorbars.xaxis.axis_label_text_font = '20'\n",
    "errorbars.yaxis.axis_label_text_font = '20'\n",
    "\n",
    "show(errorbars); del errorbars"
   ]
  },
  {
   "cell_type": "markdown",
   "metadata": {},
   "source": [
    "**Slice One Segment Transit**"
   ]
  },
  {
   "cell_type": "code",
   "execution_count": null,
   "metadata": {},
   "outputs": [],
   "source": [
    "kTran = 201\n",
    "kep3epochKt0 = kep3t0 + kTran * kep3period"
   ]
  },
  {
   "cell_type": "code",
   "execution_count": null,
   "metadata": {},
   "outputs": [],
   "source": [
    "i = 23\n",
    "sliceWidth = 0.5\n",
    "transitSlice = (kep3_df_list[i]['time'].values > kep3epochKt0 - sliceWidth) * \\\n",
    "               (kep3_df_list[i]['time'].values < kep3epochKt0 + sliceWidth)\n",
    "\n",
    "timeSliceK = kep3_df_list[i]['time'].values[transitSlice]\n",
    "fluxSliceK = kep3_df_list[i]['flux'].values[transitSlice]\n",
    "ferrSliceK = kep3_df_list[i]['ferr'].values[transitSlice]\n",
    "\n",
    "timeSliceKmod = np.linspace(timeSliceK.min(), timeSliceK.max(), timeSliceK.size)\n",
    "\n",
    "timeSliceKmod.size"
   ]
  },
  {
   "cell_type": "code",
   "execution_count": null,
   "metadata": {
    "scrolled": false
   },
   "outputs": [],
   "source": [
    "# plt.figure(figsize=(9,9))\n",
    "errorbars = bokeh_errorbars(timeSliceK, fluxSliceK, ferrSliceK)\n",
    "show(errorbars); del errorbars"
   ]
  },
  {
   "cell_type": "markdown",
   "metadata": {},
   "source": [
    "**Outliers**"
   ]
  },
  {
   "cell_type": "code",
   "execution_count": null,
   "metadata": {},
   "outputs": [],
   "source": [
    "fluxdiff = np.diff(fluxSliceK)"
   ]
  },
  {
   "cell_type": "code",
   "execution_count": null,
   "metadata": {
    "scrolled": false
   },
   "outputs": [],
   "source": [
    "# plt.figure(figsize = (9,9))\n",
    "nsigma = 3\n",
    "hlines = []\n",
    "plot = figure()\n",
    "\n",
    "hlines.append(Span(location=np.nanmedian(fluxdiff) + nsigma * np.nanstd(fluxdiff), \n",
    "                   dimension='width', line_color='black', line_width=3))\n",
    "hlines.append(Span(location=np.nanmedian(fluxdiff) - nsigma * np.nanstd(fluxdiff), \n",
    "                   dimension='width', line_color='black', line_width=3))\n",
    "\n",
    "hlines.append(Span(location=0, dimension='width', line_color='black', line_width=3))\n",
    "\n",
    "plot.renderers.extend(hlines)\n",
    "\n",
    "plot.line(x=np.arange(fluxdiff.size), y=fluxdiff)\n",
    "show(plot); del plot"
   ]
  },
  {
   "cell_type": "code",
   "execution_count": null,
   "metadata": {},
   "outputs": [],
   "source": [
    "itran=100\n",
    "nsigma=3\n",
    "outliers = np.where(abs(fluxdiff - np.nanmedian(fluxdiff)) > nsigma * np.nanstd(fluxdiff))[0]\n",
    "print('Initial Outliers:', outliers)\n",
    "\n",
    "for o in outliers:\n",
    "    beforeOutlier = list(fluxSlices[itran][o - 10+1: o + 1])\n",
    "    afterOutlier  = list(fluxSlices[itran][o + 1+1: o + 11+1])\n",
    "    fluxSliceK[o] = np.median(beforeOutlier + afterOutlier)\n",
    "\n",
    "fluxdiff = np.diff(fluxSliceK)\n",
    "outliers = np.where(abs(fluxdiff - np.nanmedian(fluxdiff)) > nsigma * np.nanstd(fluxdiff))[0]\n",
    "print('Final Outliers:', outliers)"
   ]
  },
  {
   "cell_type": "code",
   "execution_count": null,
   "metadata": {},
   "outputs": [],
   "source": [
    "# plt.figure(figsize=(9,9));\n",
    "errorbars = bokeh_errorbars(timeSliceK, fluxSliceK, ferrSliceK)\n",
    "for o in outliers[1::2]:\n",
    "    errorbars = bokeh_errorbars(timeSliceK[o], fluxSliceK[o], ferrSliceK[o], fig=errorbars, color='orange')\n",
    "\n",
    "show(errorbars); del errorbars"
   ]
  },
  {
   "cell_type": "code",
   "execution_count": null,
   "metadata": {},
   "outputs": [],
   "source": [
    "histogram = bokeh_hist(ferrSliceK[np.isfinite(ferrSliceK)],bins=ferrSliceK.size//10)\n",
    "histogram.renderers.extend([Span(location=np.nanmedian(ferrSliceK), dimension='height', line_color='red', line_width=3)])\n",
    "show(histogram);del histogram"
   ]
  },
  {
   "cell_type": "code",
   "execution_count": null,
   "metadata": {},
   "outputs": [],
   "source": [
    "nanIndices  = np.where(np.isnan(fluxSliceK))[0]\n",
    "medianDiff  = np.nanmedian(np.diff(fluxSliceK))\n",
    "\n",
    "print('Initial NaNs:', nanIndices)\n",
    "\n",
    "for n in nanIndices:\n",
    "    beforeOutlier = list(fluxSlices[kTran][n - 10+1: n + 1])\n",
    "    afterOutlier  = list(fluxSlices[kTran][n + 1+1 : n + 11+1])\n",
    "    fluxSliceK[n] = median(beforeOutlier + afterOutlier)\n",
    "    # fluxSliceK[n] = np.nanmedian(fluxSliceK)\n",
    "\n",
    "print('Final NaNs:', np.where(np.isnan(fluxSliceK))[0])"
   ]
  },
  {
   "cell_type": "code",
   "execution_count": null,
   "metadata": {},
   "outputs": [],
   "source": [
    "histogram = bokeh_hist(fluxSliceK, bins=fluxSliceK.size//10, range=[2.702e6, 2.707e6])\n",
    "histogram.renderers.extend([Span(location=np.mean(fluxSliceK)  , dimension='height', line_color='red', line_width=3)])\n",
    "histogram.renderers.extend([Span(location=np.median(fluxSliceK), dimension='height', line_color='orange', line_width=3)])\n",
    "show(histogram);del histogram"
   ]
  },
  {
   "cell_type": "code",
   "execution_count": null,
   "metadata": {},
   "outputs": [],
   "source": [
    "histogram = bokeh_hist(np.diff(fluxSliceK), bins=(fluxSliceK.size-1)//10, range=[-2000, 2000])\n",
    "histogram.renderers.extend([Span(location=np.mean(np.diff(fluxSliceK)), dimension='height', line_color='red', line_width=3)])\n",
    "histogram.renderers.extend([Span(location=np.median(np.diff(fluxSliceK)), dimension='height', line_color='orange', line_width=3)])\n",
    "show(histogram);del histogram"
   ]
  },
  {
   "cell_type": "code",
   "execution_count": null,
   "metadata": {
    "scrolled": false
   },
   "outputs": [],
   "source": [
    "errorbars = bokeh_errorbars(timeSliceK, fluxSliceK, ferrSliceK)\n",
    "for o in nanIndices:\n",
    "    errorbars = bokeh_errorbars(timeSliceK[o], fluxSliceK[o], ferrSliceK[o],  color='orange', fig=errorbars)\n",
    "\n",
    "show(errorbars);del errorbars"
   ]
  },
  {
   "cell_type": "markdown",
   "metadata": {
    "collapsed": true
   },
   "source": [
    "** Fitting the Transit with BATMAN **"
   ]
  },
  {
   "cell_type": "raw",
   "metadata": {
    "collapsed": true
   },
   "source": [
    "# From Hubert et al. 2017\n",
    "kep3period    = 4.88782433\n",
    "kep3t0        = 2454957.812464 - keplaunch\n",
    "kep3aoR       = 14.64\n",
    "kep3RpRs      = 0.05856\n",
    "kep3inc       = 88.99\n",
    "kep3ecc       = 0.26493\n",
    "kep3omeg      = -162.149\n",
    "kep3u1        = 0.646\n",
    "kep3u2        = 0.048\n",
    "timeSliceKmod = np.linspace(timeSliceK.min(), timeSliceK.max(), timeSliceK.size)"
   ]
  },
  {
   "cell_type": "code",
   "execution_count": null,
   "metadata": {},
   "outputs": [],
   "source": [
    "tparams     = batman.TransitParams()\n",
    "tparams.t0  = kep3t0                     #time of inferior conjunction\n",
    "tparams.per = kep3period                #orbital period \n",
    "tparams.rp  = kep3RpRs                   #planet radius (in units of stellar radii)\n",
    "tparams.a   = kep3aoR                     #semi-major axis (in units of stellar radii)\n",
    "tparams.inc = kep3inc                   #orbital inclination (in degrees)\n",
    "tparams.ecc = kep3ecc                   #eccentricity\n",
    "tparams.w   = kep3omeg                    #longitude of periastron (in degrees)\n",
    "tparams.limb_dark = \"quadratic\"         #limb darkening model\n",
    "tparams.u   = [kep3u1, kep3u2]            #limb darkening coefficients [u1, u2, u3, u4]\n",
    "\n",
    "SliceKlcModel = batman.TransitModel(tparams, timeSliceKmod, transittype='primary')"
   ]
  },
  {
   "cell_type": "code",
   "execution_count": null,
   "metadata": {
    "scrolled": true
   },
   "outputs": [],
   "source": [
    "lckep3Model = SliceKlcModel.light_curve(tparams)"
   ]
  },
  {
   "cell_type": "code",
   "execution_count": null,
   "metadata": {
    "scrolled": false
   },
   "outputs": [],
   "source": [
    "errorbars = bokeh_errorbars(timeSliceK, fluxSliceK / np.median(fluxSliceK), ferrSliceK / np.median(fluxSliceK))\n",
    "errorbars.line(timeSliceKmod, lckep3Model, color='orange')\n",
    "\n",
    "errorbars.xaxis.axis_label = \"Time From Central Transit (KJD)\"\n",
    "errorbars.yaxis.axis_label = \"Relative Flux (Photons)\"\n",
    "errorbars.xaxis.axis_label_text_font_size = '20px'\n",
    "errorbars.yaxis.axis_label_text_font_size = '20px'\n",
    "\n",
    "show(errorbars);del errorbars"
   ]
  },
  {
   "cell_type": "code",
   "execution_count": null,
   "metadata": {},
   "outputs": [],
   "source": [
    "initialParams = Parameters()\n",
    "\n",
    "initialParams.add_many(\n",
    "    ('period'   , kep3period, False),\n",
    "    ('tCenter'  , kep3t0    , True , kep3t0 - 0.1, kep3t0 + 0.1),\n",
    "    ('inc'      , kep3inc   , False, 0.0, 90. ),\n",
    "    ('aprs'     , kep3aoR   , False, 0.0, 100.),\n",
    "    ('tdepth'   , kep3RpRs  , True , 0.0, 1.0 ),\n",
    "    ('edepth'   , kep3FpFs  , True , 0.0, 1.0 ),\n",
    "    ('ecc'      , kep3ecc   , False, 0.0, 1.0 ),\n",
    "    ('omega'    , kep3omeg  , False, 0.0, 1.0 ),\n",
    "    ('u1'       , kep3u1    , True , 0.0, 1.0 ),\n",
    "    ('u2'       , kep3u2    , True , 0.0, 1.0 ),\n",
    "    ('intcpt'   , 1.0       , True ),\n",
    "    ('slope'    , 0.0       , True ),\n",
    "    ('crvtur', 0.0          , True ))"
   ]
  },
  {
   "cell_type": "code",
   "execution_count": null,
   "metadata": {},
   "outputs": [],
   "source": [
    "partial_residuals = partial(residuals_func, \n",
    "                            times  = timeSliceKmod, \n",
    "                            flux   = fluxSliceK / np.median(fluxSliceK), \n",
    "                            fluxerr= ferrSliceK / np.median(fluxSliceK)\n",
    "                            )\n",
    "\n",
    "mle0  = Minimizer(partial_residuals, initialParams)\n",
    "\n",
    "start = time()\n",
    "fitResult = mle0.leastsq()\n",
    "print(\"LMFIT operation took {} seconds\".format(time()-start))"
   ]
  },
  {
   "cell_type": "code",
   "execution_count": null,
   "metadata": {},
   "outputs": [],
   "source": [
    "report_errors(fitResult.params)"
   ]
  },
  {
   "cell_type": "code",
   "execution_count": null,
   "metadata": {},
   "outputs": [],
   "source": [
    "errorbars = bokeh_errorbars(timeSliceKmod, fluxSliceK / np.median(fluxSliceK), ferrSliceK / np.median(fluxSliceK))\n",
    "errorbars.line(x=timeSliceKmod, y=transit_line_model(fitResult.params, timeSliceKmod), color='orange', line_width=3)\n",
    "\n",
    "errorbars.xaxis.axis_label = \"Time From Central Transit (KJD)\"\n",
    "errorbars.yaxis.axis_label = \"Relative Flux (Photons)\"\n",
    "errorbars.xaxis.axis_label_text_font_size = '20px'\n",
    "errorbars.yaxis.axis_label_text_font_size = '20px'\n",
    "\n",
    "show(errorbars);del errorbars"
   ]
  },
  {
   "cell_type": "code",
   "execution_count": null,
   "metadata": {},
   "outputs": [],
   "source": [
    "errorbars = bokeh_errorbars(timeSliceKmod, \n",
    "                            fluxSliceK / np.median(fluxSliceK) - transit_line_model(fitResult.params, timeSliceKmod), \n",
    "                            ferrSliceK / np.median(fluxSliceK))\n",
    "errorbars.line(x=timeSliceKmod, y=np.zeros(timeSliceKmod.size), color='orange', line_width=3)\n",
    "\n",
    "errorbars.xaxis.axis_label = \"Time From Central Transit (KJD)\"\n",
    "errorbars.yaxis.axis_label = \"Relative Flux (Photons)\"\n",
    "errorbars.xaxis.axis_label_text_font_size = '20px'\n",
    "errorbars.yaxis.axis_label_text_font_size = '20px'\n",
    "\n",
    "show(errorbars);del errorbars"
   ]
  },
  {
   "cell_type": "code",
   "execution_count": null,
   "metadata": {},
   "outputs": [],
   "source": [
    "residuals = fluxSliceK - transit_line_model(fitResult.params, timeSliceKmod)\n",
    "chisq     = np.sum((residuals / ferrSliceK)**2.)\n",
    "print(chisq / residuals.size)"
   ]
  },
  {
   "cell_type": "code",
   "execution_count": null,
   "metadata": {},
   "outputs": [],
   "source": [
    "def lnprob(p):\n",
    "    resid = partial_residuals(p)\n",
    "    s = p['f']\n",
    "    resid *= 1 / s\n",
    "    resid *= resid\n",
    "    resid += np.log(2 * np.pi * s**2)\n",
    "    return -0.5 * np.sum(resid)"
   ]
  },
  {
   "cell_type": "code",
   "execution_count": null,
   "metadata": {},
   "outputs": [],
   "source": [
    "mle0.params.add('f', value=1, min=0.001, max=2)"
   ]
  },
  {
   "cell_type": "code",
   "execution_count": null,
   "metadata": {},
   "outputs": [],
   "source": [
    "mini  = Minimizer(lnprob, mle0.params)"
   ]
  },
  {
   "cell_type": "code",
   "execution_count": null,
   "metadata": {},
   "outputs": [],
   "source": [
    "start = time()\n",
    "\n",
    "res   = mini.emcee(params=mle0.params, steps=100, nwalkers=100, burn=1, thin=10, ntemps=1, \n",
    "                    pos=None, reuse_sampler=False, workers=1, float_behavior='posterior', \n",
    "                    is_weighted=True, seed=None)\n",
    "\n",
    "joblib.dump(res, 'emcee_results.joblib.save')\n",
    "print(\"MCMC operation took {} seconds\".format(time()-start))"
   ]
  },
  {
   "cell_type": "code",
   "execution_count": null,
   "metadata": {},
   "outputs": [],
   "source": [
    "initialParams = Parameters()\n",
    "\n",
    "initialParams.add_many(\n",
    "    ('period'   , kep3period, False),\n",
    "    ('tCenter'  , kep3t0    , True , kep3t0 - 0.1, kep3t0 + 0.1),\n",
    "    ('inc'      , kep3inc   , False, 0.0, 90. ),\n",
    "    ('aprs'     , kep3aoR   , False, 0.0, 100.),\n",
    "    ('tdepth'   , kep3RpRs  , True , 0.0, 1.0 ),\n",
    "    ('edepth'   , kep3FpFs  , True , 0.0, 1.0 ),\n",
    "    ('ecc'      , kep3ecc   , False, 0.0, 1.0 ),\n",
    "    ('omega'    , kep3omeg  , False, 0.0, 1.0 ),\n",
    "    ('u1'       , kep3u1    , True , 0.0, 1.0 ),\n",
    "    ('u2'       , kep3u2    , True , 0.0, 1.0 ),\n",
    "    ('intcpt'   , 1.0       , True ),\n",
    "    ('slope'    , 0.0       , True ),\n",
    "    ('crvtur', 0.0          , True ))"
   ]
  },
  {
   "cell_type": "code",
   "execution_count": null,
   "metadata": {},
   "outputs": [],
   "source": [
    "res_flatchain.shape"
   ]
  },
  {
   "cell_type": "code",
   "execution_count": null,
   "metadata": {},
   "outputs": [],
   "source": [
    "# corner_use    = [1, 4,5,]\n",
    "res_var_names = np.array(res.var_names)\n",
    "res_flatchain = np.array(res.flatchain)\n",
    "res_df = DataFrame(res_flatchain, columns=res_var_names)\n",
    "# res_flatchain.T[corner_use].shape"
   ]
  },
  {
   "cell_type": "code",
   "execution_count": null,
   "metadata": {
    "scrolled": false
   },
   "outputs": [],
   "source": [
    "bokeh_corner_plot(res_df)"
   ]
  },
  {
   "cell_type": "code",
   "execution_count": null,
   "metadata": {},
   "outputs": [],
   "source": []
  }
 ],
 "metadata": {
  "kernelspec": {
   "display_name": "Python 3",
   "language": "python",
   "name": "python3"
  },
  "language_info": {
   "codemirror_mode": {
    "name": "ipython",
    "version": 3
   },
   "file_extension": ".py",
   "mimetype": "text/x-python",
   "name": "python",
   "nbconvert_exporter": "python",
   "pygments_lexer": "ipython3",
   "version": "3.6.4"
  }
 },
 "nbformat": 4,
 "nbformat_minor": 2
}
